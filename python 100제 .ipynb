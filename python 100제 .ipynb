{
  "nbformat": 4,
  "nbformat_minor": 0,
  "metadata": {
    "colab": {
      "name": "Untitled1.ipynb",
      "provenance": [],
      "authorship_tag": "ABX9TyM4VzTCQPOacKJg5qje6jNV",
      "include_colab_link": true
    },
    "kernelspec": {
      "name": "python3",
      "display_name": "Python 3"
    },
    "language_info": {
      "name": "python"
    }
  },
  "cells": [
    {
      "cell_type": "markdown",
      "metadata": {
        "id": "view-in-github",
        "colab_type": "text"
      },
      "source": [
        "<a href=\"https://colab.research.google.com/github/hasun3503/20210810/blob/main/python%20100%EC%A0%9C%20.ipynb\" target=\"_parent\"><img src=\"https://colab.research.google.com/assets/colab-badge.svg\" alt=\"Open In Colab\"/></a>"
      ]
    },
    {
      "cell_type": "code",
      "execution_count": null,
      "metadata": {
        "id": "vpkPAwJPfizI"
      },
      "outputs": [],
      "source": [
        "#100제 6054,6055\n",
        "\n",
        "a, b = input().split()\n",
        "print(bool(int(a)) or bool(int(b)))\n",
        "\n",
        "#bool = 참 거짓 반전 시켜준다.\n",
        "#print(a or b) = or에 의해 참 거짓이 나타난다. or 말고도 and 같은것도 가능한 듯 하다."
      ]
    }
  ]
}